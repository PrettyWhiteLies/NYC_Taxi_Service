{
 "cells": [
  {
   "cell_type": "code",
   "execution_count": 1,
   "metadata": {},
   "outputs": [],
   "source": [
    "import pandas as pd\n",
    "from pyspark.sql import functions as F\n",
    "from pyspark.sql import SparkSession\n",
    "from pyspark.sql.functions import *\n",
    "from statsmodels.formula.api import ols, glm\n",
    "import statsmodels.api as sm\n",
    "from pyspark.ml.feature import VectorAssembler\n",
    "from pyspark.ml.regression import LinearRegression\n",
    "from pyspark.ml.evaluation import RegressionEvaluator"
   ]
  },
  {
   "cell_type": "code",
   "execution_count": 2,
   "metadata": {},
   "outputs": [
    {
     "name": "stderr",
     "output_type": "stream",
     "text": [
      "Setting default log level to \"WARN\".\n",
      "To adjust logging level use sc.setLogLevel(newLevel). For SparkR, use setLogLevel(newLevel).\n",
      "23/08/21 00:38:17 WARN NativeCodeLoader: Unable to load native-hadoop library for your platform... using builtin-java classes where applicable\n",
      "23/08/21 00:38:19 WARN Utils: Service 'SparkUI' could not bind on port 4040. Attempting port 4041.\n",
      "23/08/21 00:38:19 WARN Utils: Service 'SparkUI' could not bind on port 4041. Attempting port 4042.\n",
      "23/08/21 00:38:19 WARN Utils: Service 'SparkUI' could not bind on port 4042. Attempting port 4043.\n"
     ]
    }
   ],
   "source": [
    "spark = (\n",
    " SparkSession.builder.appName(\"project 1 LR\")\n",
    " .config(\"spark.sql.repl.eagerEval.enabled\", True)\n",
    " .config(\"spark.executor.memory\",\"4G\")\n",
    " .config(\"spark.driver.memory\",\"2G\")\n",
    " .config(\"spark.sql.parquet.cacheMetadata\", \"true\")\n",
    " .config(\"spark.sql.session.timeZone\", \"Etc/UTC\")\n",
    " .config('spark.driver.maxResultSize', '2048m')\n",
    " .getOrCreate()\n",
    ")"
   ]
  },
  {
   "cell_type": "code",
   "execution_count": 3,
   "metadata": {},
   "outputs": [
    {
     "name": "stderr",
     "output_type": "stream",
     "text": [
      "                                                                                \r"
     ]
    }
   ],
   "source": [
    "data = spark.read.parquet('../data/curated/merged_sdf.parquet')"
   ]
  },
  {
   "attachments": {},
   "cell_type": "markdown",
   "metadata": {},
   "source": [
    "## Adjusting the columns to train the model ##"
   ]
  },
  {
   "cell_type": "code",
   "execution_count": 4,
   "metadata": {},
   "outputs": [],
   "source": [
    "model_feature = ['duration', 'extra', 'Weekend', 'Airport', 'Congestion','tip_amount']\n",
    "selected_data = data.select(*[col(col_name) for col_name in model_feature])"
   ]
  },
  {
   "cell_type": "code",
   "execution_count": 5,
   "metadata": {},
   "outputs": [],
   "source": [
    "input_column = ['duration', 'extra', 'Weekend', 'Airport', 'Congestion']\n",
    "assembler = VectorAssembler(inputCols=input_column, outputCol='features')\n",
    "assembled_data = assembler.transform(selected_data)\n",
    "\n",
    "# Split the data into training and testing sets\n",
    "train_data, test_data = assembled_data.randomSplit([0.8, 0.2], seed=0)"
   ]
  },
  {
   "attachments": {},
   "cell_type": "markdown",
   "metadata": {},
   "source": [
    "## Model training ##"
   ]
  },
  {
   "cell_type": "code",
   "execution_count": 6,
   "metadata": {},
   "outputs": [
    {
     "name": "stderr",
     "output_type": "stream",
     "text": [
      "23/08/21 00:38:43 WARN InstanceBuilder: Failed to load implementation from:dev.ludovic.netlib.blas.JNIBLAS\n",
      "                                                                                \r"
     ]
    },
    {
     "name": "stdout",
     "output_type": "stream",
     "text": [
      "R_sqr: 0.4741546893361698 , Root Mean Squared Error: 2.798349130756582 , regParam: 0.0001\n"
     ]
    },
    {
     "name": "stderr",
     "output_type": "stream",
     "text": [
      "                                                                                \r"
     ]
    },
    {
     "name": "stdout",
     "output_type": "stream",
     "text": [
      "R_sqr: 0.47415457081858525 , Root Mean Squared Error: 2.798348026354654 , regParam: 0.001\n"
     ]
    },
    {
     "name": "stderr",
     "output_type": "stream",
     "text": [
      "[Stage 17:===================================================>      (8 + 1) / 9]\r"
     ]
    },
    {
     "name": "stdout",
     "output_type": "stream",
     "text": [
      "R_sqr: 0.4741427504745639 , Root Mean Squared Error: 2.7983656080421015 , regParam: 0.01\n"
     ]
    },
    {
     "name": "stderr",
     "output_type": "stream",
     "text": [
      "                                                                                \r"
     ]
    }
   ],
   "source": [
    "# Take 3 mins to run\n",
    "for i in [0.0001, 0.001, 0.01]:\n",
    "    lm = LinearRegression(\n",
    "        featuresCol='features', \n",
    "        labelCol='tip_amount',\n",
    "        regParam=i, \n",
    "        elasticNetParam=0.5\n",
    "    ).fit(train_data)\n",
    "    predictions = lm.transform(test_data)\n",
    "    evaluator = RegressionEvaluator(labelCol='tip_amount', predictionCol='prediction', metricName='rmse')\n",
    "    rmse = evaluator.evaluate(predictions)\n",
    "    print('R_sqr:', lm.summary.r2, \", Root Mean Squared Error:\", rmse, \", regParam:\", i)\n",
    "\n"
   ]
  }
 ],
 "metadata": {
  "kernelspec": {
   "display_name": "Python 3",
   "language": "python",
   "name": "python3"
  },
  "language_info": {
   "codemirror_mode": {
    "name": "ipython",
    "version": 3
   },
   "file_extension": ".py",
   "mimetype": "text/x-python",
   "name": "python",
   "nbconvert_exporter": "python",
   "pygments_lexer": "ipython3",
   "version": "3.9.6"
  },
  "orig_nbformat": 4
 },
 "nbformat": 4,
 "nbformat_minor": 2
}
