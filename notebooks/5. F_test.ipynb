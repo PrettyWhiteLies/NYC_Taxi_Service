{
 "cells": [
  {
   "cell_type": "code",
   "execution_count": 1,
   "metadata": {},
   "outputs": [],
   "source": [
    "import pandas as pd\n",
    "from pyspark.sql import functions as F\n",
    "from pyspark.sql import SparkSession\n",
    "from pyspark.sql.functions import *\n",
    "from statsmodels.formula.api import ols, glm\n",
    "import statsmodels.api as sm"
   ]
  },
  {
   "cell_type": "code",
   "execution_count": 2,
   "metadata": {},
   "outputs": [],
   "source": [
    "df = pd.read_parquet('../data/curated/sample_data_remove_outliers.parquet')"
   ]
  },
  {
   "cell_type": "code",
   "execution_count": 3,
   "metadata": {},
   "outputs": [],
   "source": [
    "#Since there is tip_amount = 0, log transformation would have problem with it\n",
    "log_transformed_data = np.log(df.loc[df['tip_amount'] > 0,'tip_amount'])"
   ]
  },
  {
   "cell_type": "code",
   "execution_count": 4,
   "metadata": {},
   "outputs": [],
   "source": [
    "filtered_df = df[df['tip_amount'] != 0]\n",
    "log_transformed_data = np.log(filtered_df['tip_amount'])"
   ]
  },
  {
   "cell_type": "code",
   "execution_count": 5,
   "metadata": {},
   "outputs": [
    {
     "name": "stderr",
     "output_type": "stream",
     "text": [
      "/var/folders/d9/jcb14qr94sg1lztfzpxkm77r0000gn/T/ipykernel_31925/2240414701.py:2: SettingWithCopyWarning: \n",
      "A value is trying to be set on a copy of a slice from a DataFrame.\n",
      "Try using .loc[row_indexer,col_indexer] = value instead\n",
      "\n",
      "See the caveats in the documentation: https://pandas.pydata.org/pandas-docs/stable/user_guide/indexing.html#returning-a-view-versus-a-copy\n",
      "  filtered_df['PULocationID'] = pd.Categorical(filtered_df['PULocationID'])\n",
      "/var/folders/d9/jcb14qr94sg1lztfzpxkm77r0000gn/T/ipykernel_31925/2240414701.py:3: SettingWithCopyWarning: \n",
      "A value is trying to be set on a copy of a slice from a DataFrame.\n",
      "Try using .loc[row_indexer,col_indexer] = value instead\n",
      "\n",
      "See the caveats in the documentation: https://pandas.pydata.org/pandas-docs/stable/user_guide/indexing.html#returning-a-view-versus-a-copy\n",
      "  filtered_df['DOLocationID'] = pd.Categorical(filtered_df['DOLocationID'])\n"
     ]
    }
   ],
   "source": [
    "#Transforming those numeric datatype to categorical to prepare f test\n",
    "filtered_df['PULocationID'] = pd.Categorical(filtered_df['PULocationID'])\n",
    "filtered_df['DOLocationID'] = pd.Categorical(filtered_df['DOLocationID'])"
   ]
  },
  {
   "attachments": {},
   "cell_type": "markdown",
   "metadata": {},
   "source": [
    "## ANOVA test ##"
   ]
  },
  {
   "cell_type": "code",
   "execution_count": 6,
   "metadata": {},
   "outputs": [
    {
     "name": "stdout",
     "output_type": "stream",
     "text": [
      "                    sum_sq        df            F        PR(>F)\n",
      "Weekend          74.797129       1.0   236.656787  2.323348e-53\n",
      "Airport          74.239905       1.0   234.893739  5.622621e-53\n",
      "Congestion     1663.384381       1.0  5262.918614  0.000000e+00\n",
      "PULocationID   2147.208404     154.0    44.115125  0.000000e+00\n",
      "DOLocationID   9174.217908     242.0   119.946539  0.000000e+00\n",
      "Residual      45640.585104  144406.0          NaN           NaN\n"
     ]
    }
   ],
   "source": [
    "# Create an ANOVA model\n",
    "model = ols('log_transformed_data ~ Weekend+Airport+Congestion+PULocationID+DOLocationID', data=filtered_df).fit()\n",
    "\n",
    "# Perform the ANOVA analysis\n",
    "anova_table = sm.stats.anova_lm(model, typ=2)\n",
    "\n",
    "print(anova_table) \n"
   ]
  },
  {
   "cell_type": "code",
   "execution_count": null,
   "metadata": {},
   "outputs": [],
   "source": []
  }
 ],
 "metadata": {
  "kernelspec": {
   "display_name": "Python 3",
   "language": "python",
   "name": "python3"
  },
  "language_info": {
   "codemirror_mode": {
    "name": "ipython",
    "version": 3
   },
   "file_extension": ".py",
   "mimetype": "text/x-python",
   "name": "python",
   "nbconvert_exporter": "python",
   "pygments_lexer": "ipython3",
   "version": "3.9.6"
  },
  "orig_nbformat": 4
 },
 "nbformat": 4,
 "nbformat_minor": 2
}
