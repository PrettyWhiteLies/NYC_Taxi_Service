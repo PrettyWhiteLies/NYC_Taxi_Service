{
 "cells": [
  {
   "cell_type": "code",
   "execution_count": 1,
   "metadata": {},
   "outputs": [],
   "source": [
    "from pyspark.sql import functions as F\n",
    "from pyspark.sql import SparkSession\n",
    "from pyspark.sql.functions import *\n",
    "from pyspark.ml.feature import VectorAssembler, StringIndexer\n",
    "from pyspark.ml.classification import RandomForestClassifier\n",
    "from pyspark.ml import Pipeline\n",
    "from pyspark.ml.evaluation import MulticlassClassificationEvaluator\n",
    "from sklearn.metrics import classification_report, confusion_matrix, accuracy_score\n",
    "from pyspark.mllib.evaluation import MulticlassMetrics\n"
   ]
  },
  {
   "cell_type": "code",
   "execution_count": 2,
   "metadata": {},
   "outputs": [
    {
     "name": "stderr",
     "output_type": "stream",
     "text": [
      "Setting default log level to \"WARN\".\n",
      "To adjust logging level use sc.setLogLevel(newLevel). For SparkR, use setLogLevel(newLevel).\n",
      "23/08/21 00:39:31 WARN NativeCodeLoader: Unable to load native-hadoop library for your platform... using builtin-java classes where applicable\n",
      "23/08/21 00:39:34 WARN Utils: Service 'SparkUI' could not bind on port 4040. Attempting port 4041.\n",
      "23/08/21 00:39:34 WARN Utils: Service 'SparkUI' could not bind on port 4041. Attempting port 4042.\n",
      "23/08/21 00:39:34 WARN Utils: Service 'SparkUI' could not bind on port 4042. Attempting port 4043.\n",
      "23/08/21 00:39:34 WARN Utils: Service 'SparkUI' could not bind on port 4043. Attempting port 4044.\n"
     ]
    }
   ],
   "source": [
    "spark = (\n",
    " SparkSession.builder.appName(\"project 1 RF\")\n",
    " .config(\"spark.sql.repl.eagerEval.enabled\", True)\n",
    " .config(\"spark.executor.memory\",\"6G\")\n",
    " .config(\"spark.driver.memory\",\"4G\")\n",
    " .config(\"spark.sql.parquet.cacheMetadata\", \"true\")\n",
    " .config(\"spark.sql.session.timeZone\", \"Etc/UTC\")\n",
    " .config('spark.driver.maxResultSize', '2048m')\n",
    " .getOrCreate()\n",
    ")"
   ]
  },
  {
   "cell_type": "code",
   "execution_count": 3,
   "metadata": {},
   "outputs": [
    {
     "name": "stderr",
     "output_type": "stream",
     "text": [
      "                                                                                \r"
     ]
    }
   ],
   "source": [
    "data = spark.read.parquet('../data/curated/merged_sdf.parquet')"
   ]
  },
  {
   "cell_type": "code",
   "execution_count": 4,
   "metadata": {},
   "outputs": [
    {
     "name": "stderr",
     "output_type": "stream",
     "text": [
      "                                                                                \r"
     ]
    },
    {
     "data": {
      "text/plain": [
       "0.5631643629905457"
      ]
     },
     "execution_count": 4,
     "metadata": {},
     "output_type": "execute_result"
    }
   ],
   "source": [
    "data.where(F.col('tip_amount') >= 3).count() / data.count()"
   ]
  },
  {
   "attachments": {},
   "cell_type": "markdown",
   "metadata": {},
   "source": [
    "## Adjusting the columns to train the model ##"
   ]
  },
  {
   "cell_type": "code",
   "execution_count": 5,
   "metadata": {},
   "outputs": [],
   "source": [
    "column = ['PULocationID','DOLocationID', 'Airport', 'Congestion', 'Weekend', 'tip']"
   ]
  },
  {
   "cell_type": "code",
   "execution_count": 6,
   "metadata": {},
   "outputs": [],
   "source": [
    "def discretization(sdf):\n",
    "    sdf = sdf.withColumn('tip', (F.col('tip_amount') >= 3).cast('BOOLEAN'))\n",
    "    sdf = sdf.select(column)\n",
    "    return sdf.withColumn('tip_numeric', F.col('tip').cast('int')).select(['PULocationID','DOLocationID', 'Airport', 'Congestion', 'Weekend', 'tip_numeric'])"
   ]
  },
  {
   "cell_type": "code",
   "execution_count": 7,
   "metadata": {},
   "outputs": [],
   "source": [
    "data = discretization(data)"
   ]
  },
  {
   "cell_type": "code",
   "execution_count": 8,
   "metadata": {},
   "outputs": [
    {
     "data": {
      "text/plain": [
       "0.5631643629905457"
      ]
     },
     "execution_count": 8,
     "metadata": {},
     "output_type": "execute_result"
    }
   ],
   "source": [
    "data.where(F.col('tip_numeric') != 0).count() / data.count()"
   ]
  },
  {
   "attachments": {},
   "cell_type": "markdown",
   "metadata": {},
   "source": [
    "## Model training ##"
   ]
  },
  {
   "cell_type": "code",
   "execution_count": 9,
   "metadata": {},
   "outputs": [],
   "source": [
    "# Assuming 'label' is the target column and 'features' are the feature columns\n",
    "assembler = VectorAssembler(inputCols=['PULocationID','DOLocationID', 'Airport', 'Congestion', 'Weekend'], outputCol=\"features\")"
   ]
  },
  {
   "cell_type": "code",
   "execution_count": 10,
   "metadata": {},
   "outputs": [
    {
     "name": "stderr",
     "output_type": "stream",
     "text": [
      "23/08/21 00:41:44 WARN MemoryStore: Not enough space to cache rdd_58_4 in memory! (computed 108.7 MiB so far)\n",
      "23/08/21 00:41:44 WARN BlockManager: Persisting block rdd_58_4 to disk instead.\n",
      "23/08/21 00:41:45 WARN MemoryStore: Not enough space to cache rdd_58_3 in memory! (computed 108.7 MiB so far)\n",
      "23/08/21 00:41:45 WARN BlockManager: Persisting block rdd_58_3 to disk instead.\n",
      "23/08/21 00:41:45 WARN MemoryStore: Not enough space to cache rdd_58_5 in memory! (computed 108.7 MiB so far)\n",
      "23/08/21 00:41:45 WARN BlockManager: Persisting block rdd_58_5 to disk instead.\n",
      "23/08/21 00:41:46 WARN MemoryStore: Not enough space to cache rdd_58_2 in memory! (computed 108.7 MiB so far)\n",
      "23/08/21 00:41:46 WARN BlockManager: Persisting block rdd_58_2 to disk instead.\n",
      "23/08/21 00:41:46 WARN MemoryStore: Not enough space to cache rdd_58_0 in memory! (computed 108.7 MiB so far)\n",
      "23/08/21 00:41:46 WARN BlockManager: Persisting block rdd_58_0 to disk instead.\n",
      "23/08/21 00:42:33 WARN MemoryStore: Not enough space to cache rdd_58_1 in memory! (computed 580.0 MiB so far)\n",
      "23/08/21 00:42:33 WARN BlockManager: Persisting block rdd_58_1 to disk instead.\n",
      "23/08/21 00:43:22 WARN MemoryStore: Not enough space to cache rdd_58_4 in memory! (computed 580.0 MiB so far)\n",
      "23/08/21 00:43:22 WARN MemoryStore: Not enough space to cache rdd_58_1 in memory! (computed 580.0 MiB so far)\n",
      "23/08/21 00:43:23 WARN MemoryStore: Not enough space to cache rdd_58_3 in memory! (computed 163.1 MiB so far)\n",
      "23/08/21 00:43:24 WARN MemoryStore: Not enough space to cache rdd_58_5 in memory! (computed 244.7 MiB so far)\n",
      "23/08/21 00:43:30 WARN MemoryStore: Not enough space to cache rdd_58_2 in memory! (computed 244.7 MiB so far)\n",
      "23/08/21 00:43:37 WARN MemoryStore: Not enough space to cache rdd_58_0 in memory! (computed 244.7 MiB so far)\n",
      "23/08/21 00:44:43 WARN MemoryStore: Not enough space to cache rdd_58_0 in memory! (computed 244.7 MiB so far)\n",
      "23/08/21 00:44:43 WARN MemoryStore: Not enough space to cache rdd_58_2 in memory! (computed 244.7 MiB so far)\n",
      "23/08/21 00:44:48 WARN MemoryStore: Not enough space to cache rdd_58_3 in memory! (computed 368.0 MiB so far)\n",
      "23/08/21 00:44:48 WARN MemoryStore: Not enough space to cache rdd_58_4 in memory! (computed 368.0 MiB so far)\n",
      "23/08/21 00:44:48 WARN MemoryStore: Not enough space to cache rdd_58_5 in memory! (computed 368.0 MiB so far)\n",
      "23/08/21 00:44:48 WARN MemoryStore: Not enough space to cache rdd_58_1 in memory! (computed 368.0 MiB so far)\n",
      "23/08/21 00:45:58 WARN MemoryStore: Not enough space to cache rdd_58_2 in memory! (computed 244.7 MiB so far)\n",
      "23/08/21 00:45:58 WARN MemoryStore: Not enough space to cache rdd_58_5 in memory! (computed 244.7 MiB so far)\n",
      "23/08/21 00:46:04 WARN MemoryStore: Not enough space to cache rdd_58_4 in memory! (computed 368.0 MiB so far)\n",
      "23/08/21 00:46:04 WARN MemoryStore: Not enough space to cache rdd_58_1 in memory! (computed 368.0 MiB so far)\n",
      "23/08/21 00:46:04 WARN MemoryStore: Not enough space to cache rdd_58_0 in memory! (computed 368.0 MiB so far)\n",
      "23/08/21 00:46:04 WARN MemoryStore: Not enough space to cache rdd_58_3 in memory! (computed 368.0 MiB so far)\n",
      "23/08/21 00:47:20 WARN MemoryStore: Not enough space to cache rdd_58_1 in memory! (computed 244.7 MiB so far)\n",
      "23/08/21 00:47:20 WARN MemoryStore: Not enough space to cache rdd_58_2 in memory! (computed 244.7 MiB so far)\n",
      "23/08/21 00:47:23 WARN MemoryStore: Not enough space to cache rdd_58_3 in memory! (computed 368.0 MiB so far)\n",
      "23/08/21 00:47:23 WARN MemoryStore: Not enough space to cache rdd_58_5 in memory! (computed 368.0 MiB so far)\n",
      "23/08/21 00:47:23 WARN MemoryStore: Not enough space to cache rdd_58_4 in memory! (computed 368.0 MiB so far)\n",
      "23/08/21 00:47:23 WARN MemoryStore: Not enough space to cache rdd_58_0 in memory! (computed 368.0 MiB so far)\n",
      "23/08/21 00:48:59 WARN MemoryStore: Not enough space to cache rdd_58_5 in memory! (computed 244.7 MiB so far)\n",
      "23/08/21 00:48:59 WARN MemoryStore: Not enough space to cache rdd_58_3 in memory! (computed 244.7 MiB so far)\n",
      "23/08/21 00:49:06 WARN MemoryStore: Not enough space to cache rdd_58_4 in memory! (computed 368.0 MiB so far)\n",
      "23/08/21 00:49:06 WARN MemoryStore: Not enough space to cache rdd_58_0 in memory! (computed 368.0 MiB so far)\n",
      "23/08/21 00:49:06 WARN MemoryStore: Not enough space to cache rdd_58_2 in memory! (computed 368.0 MiB so far)\n",
      "23/08/21 00:49:06 WARN MemoryStore: Not enough space to cache rdd_58_1 in memory! (computed 368.0 MiB so far)\n",
      "                                                                                \r"
     ]
    }
   ],
   "source": [
    "# Takes 8 mins to run\n",
    "rf = RandomForestClassifier(featuresCol=\"features\", labelCol=\"tip_numeric\", numTrees=100, maxDepth=5)\n",
    "\n",
    "pipeline = Pipeline(stages=[assembler, rf])\n",
    "\n",
    "train_data, test_data = data.randomSplit([0.8, 0.2], seed=42)\n",
    "\n",
    "model = pipeline.fit(train_data)\n"
   ]
  },
  {
   "attachments": {},
   "cell_type": "markdown",
   "metadata": {},
   "source": [
    "## Evaluating the result ##"
   ]
  },
  {
   "cell_type": "code",
   "execution_count": 11,
   "metadata": {},
   "outputs": [
    {
     "name": "stderr",
     "output_type": "stream",
     "text": [
      "[Stage 30:===================================================>      (8 + 1) / 9]\r"
     ]
    },
    {
     "name": "stdout",
     "output_type": "stream",
     "text": [
      "Accuracy: 0.5936331401068027\n"
     ]
    },
    {
     "name": "stderr",
     "output_type": "stream",
     "text": [
      "                                                                                \r"
     ]
    }
   ],
   "source": [
    "predictions = model.transform(test_data)\n",
    "\n",
    "evaluator = MulticlassClassificationEvaluator(labelCol=\"tip_numeric\", predictionCol=\"prediction\", metricName=\"accuracy\")\n",
    "accuracy = evaluator.evaluate(predictions)\n",
    "print(\"Accuracy:\", accuracy)\n"
   ]
  },
  {
   "cell_type": "code",
   "execution_count": 12,
   "metadata": {},
   "outputs": [
    {
     "name": "stderr",
     "output_type": "stream",
     "text": [
      "/Users/chengqian/Library/Python/3.9/lib/python/site-packages/pyspark/sql/context.py:157: FutureWarning: Deprecated in 3.0.0. Use SparkSession.builder.getOrCreate() instead.\n",
      "  warnings.warn(\n",
      "                                                                                \r"
     ]
    }
   ],
   "source": [
    "prediction_and_label = predictions.select(\"prediction\", \"tip_numeric\").rdd.map(lambda row: (float(row.prediction), float(row.tip_numeric)))\n",
    "\n",
    "# Instantiate the MulticlassMetrics class\n",
    "metrics = MulticlassMetrics(prediction_and_label)\n",
    "\n",
    "# Compute the confusion matrix\n",
    "confusion_matrix = metrics.confusionMatrix()\n"
   ]
  },
  {
   "cell_type": "code",
   "execution_count": 13,
   "metadata": {},
   "outputs": [
    {
     "name": "stdout",
     "output_type": "stream",
     "text": [
      "DenseMatrix([[ 205941., 1116143.],\n",
      "             [ 113656., 1590587.]])\n"
     ]
    }
   ],
   "source": [
    "print(confusion_matrix)"
   ]
  },
  {
   "cell_type": "code",
   "execution_count": null,
   "metadata": {},
   "outputs": [],
   "source": []
  }
 ],
 "metadata": {
  "kernelspec": {
   "display_name": "Python 3",
   "language": "python",
   "name": "python3"
  },
  "language_info": {
   "codemirror_mode": {
    "name": "ipython",
    "version": 3
   },
   "file_extension": ".py",
   "mimetype": "text/x-python",
   "name": "python",
   "nbconvert_exporter": "python",
   "pygments_lexer": "ipython3",
   "version": "3.9.6"
  },
  "orig_nbformat": 4
 },
 "nbformat": 4,
 "nbformat_minor": 2
}
